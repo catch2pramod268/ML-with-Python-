{
 "cells": [
  {
   "cell_type": "markdown",
   "metadata": {},
   "source": [
    "### Importing libraries"
   ]
  },
  {
   "cell_type": "code",
   "execution_count": 1,
   "metadata": {},
   "outputs": [
    {
     "name": "stdout",
     "output_type": "stream",
     "text": [
      "Requirement already satisfied: imbalanced-learn in c:\\users\\91902\\anaconda3\\anaconda\\lib\\site-packages (0.10.1)\n",
      "Requirement already satisfied: scipy>=1.3.2 in c:\\users\\91902\\anaconda3\\anaconda\\lib\\site-packages (from imbalanced-learn) (1.4.1)\n",
      "Requirement already satisfied: numpy>=1.17.3 in c:\\users\\91902\\anaconda3\\anaconda\\lib\\site-packages (from imbalanced-learn) (1.18.1)\n",
      "Requirement already satisfied: joblib>=1.1.1 in c:\\users\\91902\\anaconda3\\anaconda\\lib\\site-packages (from imbalanced-learn) (1.2.0)\n",
      "Requirement already satisfied: scikit-learn>=1.0.2 in c:\\users\\91902\\anaconda3\\anaconda\\lib\\site-packages (from imbalanced-learn) (1.0.2)\n",
      "Requirement already satisfied: threadpoolctl>=2.0.0 in c:\\users\\91902\\anaconda3\\anaconda\\lib\\site-packages (from imbalanced-learn) (3.1.0)\n",
      "Note: you may need to restart the kernel to use updated packages.\n"
     ]
    }
   ],
   "source": [
    "pip install imbalanced-learn"
   ]
  },
  {
   "cell_type": "code",
   "execution_count": 2,
   "metadata": {},
   "outputs": [
    {
     "name": "stdout",
     "output_type": "stream",
     "text": [
      "Requirement already satisfied: xgboost in c:\\users\\91902\\anaconda3\\anaconda\\lib\\site-packages (1.6.2)\n",
      "Requirement already satisfied: numpy in c:\\users\\91902\\anaconda3\\anaconda\\lib\\site-packages (from xgboost) (1.18.1)\n",
      "Requirement already satisfied: scipy in c:\\users\\91902\\anaconda3\\anaconda\\lib\\site-packages (from xgboost) (1.4.1)\n",
      "Note: you may need to restart the kernel to use updated packages.\n"
     ]
    }
   ],
   "source": [
    "pip install xgboost"
   ]
  },
  {
   "cell_type": "code",
   "execution_count": 3,
   "metadata": {},
   "outputs": [],
   "source": [
    "import pandas as pd\n",
    "import numpy as np\n",
    "%matplotlib inline\n",
    "from matplotlib import pyplot as plt\n",
    "from sklearn.preprocessing import StandardScaler\n",
    "from sklearn.model_selection import train_test_split\n",
    "from sklearn.ensemble import RandomForestClassifier\n",
    "from sklearn.linear_model import LogisticRegression\n",
    "from sklearn.metrics import roc_auc_score,confusion_matrix, classification_report, accuracy_score\n",
    "from imblearn.over_sampling import RandomOverSampler\n",
    "from sklearn.model_selection import RandomizedSearchCV\n",
    "from xgboost import XGBClassifier\n",
    "import warnings\n",
    "warnings.filterwarnings('ignore')"
   ]
  },
  {
   "cell_type": "markdown",
   "metadata": {},
   "source": [
    "### Reading all raw data"
   ]
  },
  {
   "cell_type": "code",
   "execution_count": 4,
   "metadata": {},
   "outputs": [],
   "source": [
    "train = pd.read_csv(r'C:\\Users\\91902\\Desktop\\edavancer  submite project\\project no 6\\train.csv')\n",
    "test = pd.read_csv(r'C:\\Users\\91902\\Desktop\\edavancer  submite project\\project no 6\\test_share.csv')\n",
    "med = pd.read_csv(r'C:\\Users\\91902\\Desktop\\edavancer  submite project\\project no 6\\medical_history.csv')\n",
    "demo = pd.read_csv(r'C:\\Users\\91902\\Desktop\\edavancer  submite project\\project no 6\\demographic_details.csv')"
   ]
  },
  {
   "cell_type": "code",
   "execution_count": 5,
   "metadata": {},
   "outputs": [],
   "source": [
    "pd.set_option('display.max_rows', None)\n",
    "pd.set_option('display.max_columns', None)"
   ]
  },
  {
   "cell_type": "code",
   "execution_count": 6,
   "metadata": {},
   "outputs": [],
   "source": [
    "# Before merging check the data type, always use int or string data type for primary keys\n",
    "# Convert PatientId from Float to Integer\n",
    "train['PatientId'] = train['PatientId'].astype('int64')\n",
    "test['PatientId'] = test['PatientId'].astype('int64')\n",
    "med['PatientId'] = med['PatientId'].astype('int64')\n",
    "demo['PatientId'] = demo['PatientId'].astype('int64')"
   ]
  },
  {
   "cell_type": "code",
   "execution_count": 7,
   "metadata": {},
   "outputs": [
    {
     "data": {
      "text/plain": [
       "((99490, 6), (10854, 5), (62299, 5), (62299, 5))"
      ]
     },
     "execution_count": 7,
     "metadata": {},
     "output_type": "execute_result"
    }
   ],
   "source": [
    "train.shape, test.shape, med.shape, demo.shape"
   ]
  },
  {
   "cell_type": "code",
   "execution_count": 8,
   "metadata": {},
   "outputs": [],
   "source": [
    "#merging medical history & demographic details \n",
    "med_demo = pd.merge(med, demo, how ='outer', on ='PatientId')"
   ]
  },
  {
   "cell_type": "code",
   "execution_count": 9,
   "metadata": {},
   "outputs": [
    {
     "data": {
      "text/plain": [
       "(62299, 9)"
      ]
     },
     "execution_count": 9,
     "metadata": {},
     "output_type": "execute_result"
    }
   ],
   "source": [
    "med_demo.shape"
   ]
  },
  {
   "cell_type": "code",
   "execution_count": 10,
   "metadata": {},
   "outputs": [],
   "source": [
    "#merging above created data with train & test dataset\n",
    "train_md = pd.merge(train, med_demo, how ='left', on ='PatientId')\n",
    "test_md = pd.merge(test, med_demo, how ='left', on ='PatientId')"
   ]
  },
  {
   "cell_type": "code",
   "execution_count": 11,
   "metadata": {},
   "outputs": [
    {
     "data": {
      "text/plain": [
       "((99490, 14), (10854, 13))"
      ]
     },
     "execution_count": 11,
     "metadata": {},
     "output_type": "execute_result"
    }
   ],
   "source": [
    "train_md.shape, test_md.shape"
   ]
  },
  {
   "cell_type": "code",
   "execution_count": 12,
   "metadata": {},
   "outputs": [
    {
     "data": {
      "text/plain": [
       "(PatientId         0\n",
       " AppointmentID     0\n",
       " ScheduledDay      0\n",
       " AppointmentDay    0\n",
       " SMS_received      0\n",
       " No-show           0\n",
       " Hipertension      0\n",
       " Diabetes          0\n",
       " Alcoholism        0\n",
       " Handcap           0\n",
       " Gender            0\n",
       " Age               0\n",
       " Neighbourhood     0\n",
       " Scholarship       0\n",
       " dtype: int64,\n",
       " PatientId         0\n",
       " AppointmentID     0\n",
       " ScheduledDay      0\n",
       " AppointmentDay    0\n",
       " SMS_received      0\n",
       " Hipertension      0\n",
       " Diabetes          0\n",
       " Alcoholism        0\n",
       " Handcap           0\n",
       " Gender            0\n",
       " Age               0\n",
       " Neighbourhood     0\n",
       " Scholarship       0\n",
       " dtype: int64)"
      ]
     },
     "execution_count": 12,
     "metadata": {},
     "output_type": "execute_result"
    }
   ],
   "source": [
    "train_md.isnull().sum(), test_md.isnull().sum()"
   ]
  },
  {
   "cell_type": "code",
   "execution_count": 13,
   "metadata": {},
   "outputs": [
    {
     "name": "stdout",
     "output_type": "stream",
     "text": [
      "<class 'pandas.core.frame.DataFrame'>\n",
      "Int64Index: 99490 entries, 0 to 99489\n",
      "Data columns (total 14 columns):\n",
      " #   Column          Non-Null Count  Dtype \n",
      "---  ------          --------------  ----- \n",
      " 0   PatientId       99490 non-null  int64 \n",
      " 1   AppointmentID   99490 non-null  int64 \n",
      " 2   ScheduledDay    99490 non-null  object\n",
      " 3   AppointmentDay  99490 non-null  object\n",
      " 4   SMS_received    99490 non-null  int64 \n",
      " 5   No-show         99490 non-null  object\n",
      " 6   Hipertension    99490 non-null  int64 \n",
      " 7   Diabetes        99490 non-null  int64 \n",
      " 8   Alcoholism      99490 non-null  int64 \n",
      " 9   Handcap         99490 non-null  int64 \n",
      " 10  Gender          99490 non-null  object\n",
      " 11  Age             99490 non-null  int64 \n",
      " 12  Neighbourhood   99490 non-null  object\n",
      " 13  Scholarship     99490 non-null  int64 \n",
      "dtypes: int64(9), object(5)\n",
      "memory usage: 11.4+ MB\n",
      "<class 'pandas.core.frame.DataFrame'>\n",
      "Int64Index: 10854 entries, 0 to 10853\n",
      "Data columns (total 13 columns):\n",
      " #   Column          Non-Null Count  Dtype \n",
      "---  ------          --------------  ----- \n",
      " 0   PatientId       10854 non-null  int64 \n",
      " 1   AppointmentID   10854 non-null  int64 \n",
      " 2   ScheduledDay    10854 non-null  object\n",
      " 3   AppointmentDay  10854 non-null  object\n",
      " 4   SMS_received    10854 non-null  int64 \n",
      " 5   Hipertension    10854 non-null  int64 \n",
      " 6   Diabetes        10854 non-null  int64 \n",
      " 7   Alcoholism      10854 non-null  int64 \n",
      " 8   Handcap         10854 non-null  int64 \n",
      " 9   Gender          10854 non-null  object\n",
      " 10  Age             10854 non-null  int64 \n",
      " 11  Neighbourhood   10854 non-null  object\n",
      " 12  Scholarship     10854 non-null  int64 \n",
      "dtypes: int64(9), object(4)\n",
      "memory usage: 1.2+ MB\n"
     ]
    },
    {
     "data": {
      "text/plain": [
       "(None, None)"
      ]
     },
     "execution_count": 13,
     "metadata": {},
     "output_type": "execute_result"
    }
   ],
   "source": [
    "train_md.info(), test_md.info()"
   ]
  },
  {
   "cell_type": "code",
   "execution_count": 14,
   "metadata": {},
   "outputs": [],
   "source": [
    "# rename the columns\n",
    "train_md = train_md.rename(columns={'Hipertension': 'Hypertension', 'Handcap': 'Handicap', 'No-show': 'No_Show'})\n",
    "test_md = test_md.rename(columns={'Hipertension': 'Hypertension', 'Handcap': 'Handicap'})"
   ]
  },
  {
   "cell_type": "code",
   "execution_count": 15,
   "metadata": {},
   "outputs": [],
   "source": [
    "# Adding new columns in baith dataframe\n",
    "train_md['Data'] = 'train'\n",
    "test_md['Data'] = 'test'"
   ]
  },
  {
   "cell_type": "code",
   "execution_count": 16,
   "metadata": {},
   "outputs": [],
   "source": [
    "# moving No_Show column to end\n",
    "column_to_move = train_md.pop(\"No_Show\")\n",
    "\n",
    "# insert column with insert(location, column_name, column_value)\n",
    "train_md.insert(14, \"No_Show\", column_to_move)\n",
    "\n",
    "# different method\n",
    "#df1 = df.pop('No_Show') # remove column No_Show and store it in df1\n",
    "#df['No_Show']=df1 # add No_Show series as a 'new' column."
   ]
  },
  {
   "cell_type": "code",
   "execution_count": 17,
   "metadata": {},
   "outputs": [
    {
     "data": {
      "text/plain": [
       "(Index(['PatientId', 'AppointmentID', 'ScheduledDay', 'AppointmentDay',\n",
       "        'SMS_received', 'Hypertension', 'Diabetes', 'Alcoholism', 'Handicap',\n",
       "        'Gender', 'Age', 'Neighbourhood', 'Scholarship', 'Data', 'No_Show'],\n",
       "       dtype='object'),\n",
       " Index(['PatientId', 'AppointmentID', 'ScheduledDay', 'AppointmentDay',\n",
       "        'SMS_received', 'Hypertension', 'Diabetes', 'Alcoholism', 'Handicap',\n",
       "        'Gender', 'Age', 'Neighbourhood', 'Scholarship', 'Data'],\n",
       "       dtype='object'))"
      ]
     },
     "execution_count": 17,
     "metadata": {},
     "output_type": "execute_result"
    }
   ],
   "source": [
    "train_md.columns, test_md.columns"
   ]
  },
  {
   "cell_type": "code",
   "execution_count": 18,
   "metadata": {},
   "outputs": [],
   "source": [
    "#To make both dataframe in same order\n",
    "#test_md = test_md[train_md.columns]"
   ]
  },
  {
   "cell_type": "code",
   "execution_count": 19,
   "metadata": {
    "scrolled": true
   },
   "outputs": [
    {
     "data": {
      "text/html": [
       "<div>\n",
       "<style scoped>\n",
       "    .dataframe tbody tr th:only-of-type {\n",
       "        vertical-align: middle;\n",
       "    }\n",
       "\n",
       "    .dataframe tbody tr th {\n",
       "        vertical-align: top;\n",
       "    }\n",
       "\n",
       "    .dataframe thead th {\n",
       "        text-align: right;\n",
       "    }\n",
       "</style>\n",
       "<table border=\"1\" class=\"dataframe\">\n",
       "  <thead>\n",
       "    <tr style=\"text-align: right;\">\n",
       "      <th></th>\n",
       "      <th>PatientId</th>\n",
       "      <th>AppointmentID</th>\n",
       "      <th>ScheduledDay</th>\n",
       "      <th>AppointmentDay</th>\n",
       "      <th>SMS_received</th>\n",
       "      <th>Hypertension</th>\n",
       "      <th>Diabetes</th>\n",
       "      <th>Alcoholism</th>\n",
       "      <th>Handicap</th>\n",
       "      <th>Gender</th>\n",
       "      <th>Age</th>\n",
       "      <th>Neighbourhood</th>\n",
       "      <th>Scholarship</th>\n",
       "      <th>Data</th>\n",
       "      <th>No_Show</th>\n",
       "    </tr>\n",
       "  </thead>\n",
       "  <tbody>\n",
       "    <tr>\n",
       "      <th>0</th>\n",
       "      <td>29872499824296</td>\n",
       "      <td>5642903</td>\n",
       "      <td>2016-04-29T18:38:08Z</td>\n",
       "      <td>2016-04-29T00:00:00Z</td>\n",
       "      <td>0</td>\n",
       "      <td>1</td>\n",
       "      <td>0</td>\n",
       "      <td>0</td>\n",
       "      <td>0</td>\n",
       "      <td>F</td>\n",
       "      <td>62</td>\n",
       "      <td>JARDIM DA PENHA</td>\n",
       "      <td>0</td>\n",
       "      <td>train</td>\n",
       "      <td>No</td>\n",
       "    </tr>\n",
       "    <tr>\n",
       "      <th>1</th>\n",
       "      <td>558997776694438</td>\n",
       "      <td>5642503</td>\n",
       "      <td>2016-04-29T16:08:27Z</td>\n",
       "      <td>2016-04-29T00:00:00Z</td>\n",
       "      <td>0</td>\n",
       "      <td>0</td>\n",
       "      <td>0</td>\n",
       "      <td>0</td>\n",
       "      <td>0</td>\n",
       "      <td>M</td>\n",
       "      <td>56</td>\n",
       "      <td>JARDIM DA PENHA</td>\n",
       "      <td>0</td>\n",
       "      <td>train</td>\n",
       "      <td>No</td>\n",
       "    </tr>\n",
       "    <tr>\n",
       "      <th>2</th>\n",
       "      <td>867951213174</td>\n",
       "      <td>5642828</td>\n",
       "      <td>2016-04-29T17:29:31Z</td>\n",
       "      <td>2016-04-29T00:00:00Z</td>\n",
       "      <td>0</td>\n",
       "      <td>0</td>\n",
       "      <td>0</td>\n",
       "      <td>0</td>\n",
       "      <td>0</td>\n",
       "      <td>F</td>\n",
       "      <td>8</td>\n",
       "      <td>PONTAL DE CAMBURI</td>\n",
       "      <td>0</td>\n",
       "      <td>train</td>\n",
       "      <td>No</td>\n",
       "    </tr>\n",
       "    <tr>\n",
       "      <th>3</th>\n",
       "      <td>8841186448183</td>\n",
       "      <td>5642494</td>\n",
       "      <td>2016-04-29T16:07:23Z</td>\n",
       "      <td>2016-04-29T00:00:00Z</td>\n",
       "      <td>0</td>\n",
       "      <td>1</td>\n",
       "      <td>1</td>\n",
       "      <td>0</td>\n",
       "      <td>0</td>\n",
       "      <td>F</td>\n",
       "      <td>56</td>\n",
       "      <td>JARDIM DA PENHA</td>\n",
       "      <td>0</td>\n",
       "      <td>train</td>\n",
       "      <td>No</td>\n",
       "    </tr>\n",
       "    <tr>\n",
       "      <th>4</th>\n",
       "      <td>95985133231274</td>\n",
       "      <td>5626772</td>\n",
       "      <td>2016-04-27T08:36:51Z</td>\n",
       "      <td>2016-04-29T00:00:00Z</td>\n",
       "      <td>0</td>\n",
       "      <td>1</td>\n",
       "      <td>0</td>\n",
       "      <td>0</td>\n",
       "      <td>0</td>\n",
       "      <td>F</td>\n",
       "      <td>76</td>\n",
       "      <td>REPÚBLICA</td>\n",
       "      <td>0</td>\n",
       "      <td>train</td>\n",
       "      <td>No</td>\n",
       "    </tr>\n",
       "  </tbody>\n",
       "</table>\n",
       "</div>"
      ],
      "text/plain": [
       "         PatientId  AppointmentID          ScheduledDay        AppointmentDay  \\\n",
       "0   29872499824296        5642903  2016-04-29T18:38:08Z  2016-04-29T00:00:00Z   \n",
       "1  558997776694438        5642503  2016-04-29T16:08:27Z  2016-04-29T00:00:00Z   \n",
       "2     867951213174        5642828  2016-04-29T17:29:31Z  2016-04-29T00:00:00Z   \n",
       "3    8841186448183        5642494  2016-04-29T16:07:23Z  2016-04-29T00:00:00Z   \n",
       "4   95985133231274        5626772  2016-04-27T08:36:51Z  2016-04-29T00:00:00Z   \n",
       "\n",
       "   SMS_received  Hypertension  Diabetes  Alcoholism  Handicap Gender  Age  \\\n",
       "0             0             1         0           0         0      F   62   \n",
       "1             0             0         0           0         0      M   56   \n",
       "2             0             0         0           0         0      F    8   \n",
       "3             0             1         1           0         0      F   56   \n",
       "4             0             1         0           0         0      F   76   \n",
       "\n",
       "       Neighbourhood  Scholarship   Data No_Show  \n",
       "0    JARDIM DA PENHA            0  train      No  \n",
       "1    JARDIM DA PENHA            0  train      No  \n",
       "2  PONTAL DE CAMBURI            0  train      No  \n",
       "3    JARDIM DA PENHA            0  train      No  \n",
       "4          REPÚBLICA            0  train      No  "
      ]
     },
     "execution_count": 19,
     "metadata": {},
     "output_type": "execute_result"
    }
   ],
   "source": [
    "train_md.head()"
   ]
  },
  {
   "cell_type": "code",
   "execution_count": 20,
   "metadata": {},
   "outputs": [
    {
     "data": {
      "text/html": [
       "<div>\n",
       "<style scoped>\n",
       "    .dataframe tbody tr th:only-of-type {\n",
       "        vertical-align: middle;\n",
       "    }\n",
       "\n",
       "    .dataframe tbody tr th {\n",
       "        vertical-align: top;\n",
       "    }\n",
       "\n",
       "    .dataframe thead th {\n",
       "        text-align: right;\n",
       "    }\n",
       "</style>\n",
       "<table border=\"1\" class=\"dataframe\">\n",
       "  <thead>\n",
       "    <tr style=\"text-align: right;\">\n",
       "      <th></th>\n",
       "      <th>PatientId</th>\n",
       "      <th>AppointmentID</th>\n",
       "      <th>ScheduledDay</th>\n",
       "      <th>AppointmentDay</th>\n",
       "      <th>SMS_received</th>\n",
       "      <th>Hypertension</th>\n",
       "      <th>Diabetes</th>\n",
       "      <th>Alcoholism</th>\n",
       "      <th>Handicap</th>\n",
       "      <th>Gender</th>\n",
       "      <th>Age</th>\n",
       "      <th>Neighbourhood</th>\n",
       "      <th>Scholarship</th>\n",
       "      <th>Data</th>\n",
       "    </tr>\n",
       "  </thead>\n",
       "  <tbody>\n",
       "    <tr>\n",
       "      <th>0</th>\n",
       "      <td>7223289184215</td>\n",
       "      <td>5640433</td>\n",
       "      <td>2016-04-29T10:43:14Z</td>\n",
       "      <td>2016-04-29T00:00:00Z</td>\n",
       "      <td>0</td>\n",
       "      <td>0</td>\n",
       "      <td>0</td>\n",
       "      <td>0</td>\n",
       "      <td>0</td>\n",
       "      <td>F</td>\n",
       "      <td>46</td>\n",
       "      <td>DA PENHA</td>\n",
       "      <td>0</td>\n",
       "      <td>test</td>\n",
       "    </tr>\n",
       "    <tr>\n",
       "      <th>1</th>\n",
       "      <td>863229818887631</td>\n",
       "      <td>5616091</td>\n",
       "      <td>2016-04-25T13:29:16Z</td>\n",
       "      <td>2016-04-29T00:00:00Z</td>\n",
       "      <td>1</td>\n",
       "      <td>0</td>\n",
       "      <td>0</td>\n",
       "      <td>0</td>\n",
       "      <td>0</td>\n",
       "      <td>M</td>\n",
       "      <td>13</td>\n",
       "      <td>CONQUISTA</td>\n",
       "      <td>0</td>\n",
       "      <td>test</td>\n",
       "    </tr>\n",
       "    <tr>\n",
       "      <th>2</th>\n",
       "      <td>443858731994526</td>\n",
       "      <td>5637909</td>\n",
       "      <td>2016-04-29T07:30:31Z</td>\n",
       "      <td>2016-04-29T00:00:00Z</td>\n",
       "      <td>0</td>\n",
       "      <td>0</td>\n",
       "      <td>0</td>\n",
       "      <td>0</td>\n",
       "      <td>0</td>\n",
       "      <td>M</td>\n",
       "      <td>6</td>\n",
       "      <td>CONQUISTA</td>\n",
       "      <td>0</td>\n",
       "      <td>test</td>\n",
       "    </tr>\n",
       "    <tr>\n",
       "      <th>3</th>\n",
       "      <td>41799315536436</td>\n",
       "      <td>5638018</td>\n",
       "      <td>2016-04-29T07:37:45Z</td>\n",
       "      <td>2016-04-29T00:00:00Z</td>\n",
       "      <td>0</td>\n",
       "      <td>0</td>\n",
       "      <td>0</td>\n",
       "      <td>0</td>\n",
       "      <td>0</td>\n",
       "      <td>M</td>\n",
       "      <td>2</td>\n",
       "      <td>NOVA PALESTINA</td>\n",
       "      <td>0</td>\n",
       "      <td>test</td>\n",
       "    </tr>\n",
       "    <tr>\n",
       "      <th>4</th>\n",
       "      <td>36477615234971</td>\n",
       "      <td>5614045</td>\n",
       "      <td>2016-04-25T10:01:13Z</td>\n",
       "      <td>2016-04-29T00:00:00Z</td>\n",
       "      <td>1</td>\n",
       "      <td>0</td>\n",
       "      <td>0</td>\n",
       "      <td>0</td>\n",
       "      <td>0</td>\n",
       "      <td>F</td>\n",
       "      <td>3</td>\n",
       "      <td>CONQUISTA</td>\n",
       "      <td>1</td>\n",
       "      <td>test</td>\n",
       "    </tr>\n",
       "  </tbody>\n",
       "</table>\n",
       "</div>"
      ],
      "text/plain": [
       "         PatientId  AppointmentID          ScheduledDay        AppointmentDay  \\\n",
       "0    7223289184215        5640433  2016-04-29T10:43:14Z  2016-04-29T00:00:00Z   \n",
       "1  863229818887631        5616091  2016-04-25T13:29:16Z  2016-04-29T00:00:00Z   \n",
       "2  443858731994526        5637909  2016-04-29T07:30:31Z  2016-04-29T00:00:00Z   \n",
       "3   41799315536436        5638018  2016-04-29T07:37:45Z  2016-04-29T00:00:00Z   \n",
       "4   36477615234971        5614045  2016-04-25T10:01:13Z  2016-04-29T00:00:00Z   \n",
       "\n",
       "   SMS_received  Hypertension  Diabetes  Alcoholism  Handicap Gender  Age  \\\n",
       "0             0             0         0           0         0      F   46   \n",
       "1             1             0         0           0         0      M   13   \n",
       "2             0             0         0           0         0      M    6   \n",
       "3             0             0         0           0         0      M    2   \n",
       "4             1             0         0           0         0      F    3   \n",
       "\n",
       "    Neighbourhood  Scholarship  Data  \n",
       "0        DA PENHA            0  test  \n",
       "1       CONQUISTA            0  test  \n",
       "2       CONQUISTA            0  test  \n",
       "3  NOVA PALESTINA            0  test  \n",
       "4       CONQUISTA            1  test  "
      ]
     },
     "execution_count": 20,
     "metadata": {},
     "output_type": "execute_result"
    }
   ],
   "source": [
    "test_md.head()"
   ]
  },
  {
   "cell_type": "code",
   "execution_count": 21,
   "metadata": {},
   "outputs": [],
   "source": [
    "# Concat train and test data-\n",
    "df = pd.concat([train_md,test_md], axis=0)"
   ]
  },
  {
   "cell_type": "code",
   "execution_count": 22,
   "metadata": {},
   "outputs": [
    {
     "data": {
      "text/html": [
       "<div>\n",
       "<style scoped>\n",
       "    .dataframe tbody tr th:only-of-type {\n",
       "        vertical-align: middle;\n",
       "    }\n",
       "\n",
       "    .dataframe tbody tr th {\n",
       "        vertical-align: top;\n",
       "    }\n",
       "\n",
       "    .dataframe thead th {\n",
       "        text-align: right;\n",
       "    }\n",
       "</style>\n",
       "<table border=\"1\" class=\"dataframe\">\n",
       "  <thead>\n",
       "    <tr style=\"text-align: right;\">\n",
       "      <th></th>\n",
       "      <th>PatientId</th>\n",
       "      <th>AppointmentID</th>\n",
       "      <th>ScheduledDay</th>\n",
       "      <th>AppointmentDay</th>\n",
       "      <th>SMS_received</th>\n",
       "      <th>Hypertension</th>\n",
       "      <th>Diabetes</th>\n",
       "      <th>Alcoholism</th>\n",
       "      <th>Handicap</th>\n",
       "      <th>Gender</th>\n",
       "      <th>Age</th>\n",
       "      <th>Neighbourhood</th>\n",
       "      <th>Scholarship</th>\n",
       "      <th>Data</th>\n",
       "      <th>No_Show</th>\n",
       "    </tr>\n",
       "  </thead>\n",
       "  <tbody>\n",
       "    <tr>\n",
       "      <th>0</th>\n",
       "      <td>29872499824296</td>\n",
       "      <td>5642903</td>\n",
       "      <td>2016-04-29T18:38:08Z</td>\n",
       "      <td>2016-04-29T00:00:00Z</td>\n",
       "      <td>0</td>\n",
       "      <td>1</td>\n",
       "      <td>0</td>\n",
       "      <td>0</td>\n",
       "      <td>0</td>\n",
       "      <td>F</td>\n",
       "      <td>62</td>\n",
       "      <td>JARDIM DA PENHA</td>\n",
       "      <td>0</td>\n",
       "      <td>train</td>\n",
       "      <td>No</td>\n",
       "    </tr>\n",
       "    <tr>\n",
       "      <th>1</th>\n",
       "      <td>558997776694438</td>\n",
       "      <td>5642503</td>\n",
       "      <td>2016-04-29T16:08:27Z</td>\n",
       "      <td>2016-04-29T00:00:00Z</td>\n",
       "      <td>0</td>\n",
       "      <td>0</td>\n",
       "      <td>0</td>\n",
       "      <td>0</td>\n",
       "      <td>0</td>\n",
       "      <td>M</td>\n",
       "      <td>56</td>\n",
       "      <td>JARDIM DA PENHA</td>\n",
       "      <td>0</td>\n",
       "      <td>train</td>\n",
       "      <td>No</td>\n",
       "    </tr>\n",
       "    <tr>\n",
       "      <th>2</th>\n",
       "      <td>867951213174</td>\n",
       "      <td>5642828</td>\n",
       "      <td>2016-04-29T17:29:31Z</td>\n",
       "      <td>2016-04-29T00:00:00Z</td>\n",
       "      <td>0</td>\n",
       "      <td>0</td>\n",
       "      <td>0</td>\n",
       "      <td>0</td>\n",
       "      <td>0</td>\n",
       "      <td>F</td>\n",
       "      <td>8</td>\n",
       "      <td>PONTAL DE CAMBURI</td>\n",
       "      <td>0</td>\n",
       "      <td>train</td>\n",
       "      <td>No</td>\n",
       "    </tr>\n",
       "    <tr>\n",
       "      <th>3</th>\n",
       "      <td>8841186448183</td>\n",
       "      <td>5642494</td>\n",
       "      <td>2016-04-29T16:07:23Z</td>\n",
       "      <td>2016-04-29T00:00:00Z</td>\n",
       "      <td>0</td>\n",
       "      <td>1</td>\n",
       "      <td>1</td>\n",
       "      <td>0</td>\n",
       "      <td>0</td>\n",
       "      <td>F</td>\n",
       "      <td>56</td>\n",
       "      <td>JARDIM DA PENHA</td>\n",
       "      <td>0</td>\n",
       "      <td>train</td>\n",
       "      <td>No</td>\n",
       "    </tr>\n",
       "    <tr>\n",
       "      <th>4</th>\n",
       "      <td>95985133231274</td>\n",
       "      <td>5626772</td>\n",
       "      <td>2016-04-27T08:36:51Z</td>\n",
       "      <td>2016-04-29T00:00:00Z</td>\n",
       "      <td>0</td>\n",
       "      <td>1</td>\n",
       "      <td>0</td>\n",
       "      <td>0</td>\n",
       "      <td>0</td>\n",
       "      <td>F</td>\n",
       "      <td>76</td>\n",
       "      <td>REPÚBLICA</td>\n",
       "      <td>0</td>\n",
       "      <td>train</td>\n",
       "      <td>No</td>\n",
       "    </tr>\n",
       "  </tbody>\n",
       "</table>\n",
       "</div>"
      ],
      "text/plain": [
       "         PatientId  AppointmentID          ScheduledDay        AppointmentDay  \\\n",
       "0   29872499824296        5642903  2016-04-29T18:38:08Z  2016-04-29T00:00:00Z   \n",
       "1  558997776694438        5642503  2016-04-29T16:08:27Z  2016-04-29T00:00:00Z   \n",
       "2     867951213174        5642828  2016-04-29T17:29:31Z  2016-04-29T00:00:00Z   \n",
       "3    8841186448183        5642494  2016-04-29T16:07:23Z  2016-04-29T00:00:00Z   \n",
       "4   95985133231274        5626772  2016-04-27T08:36:51Z  2016-04-29T00:00:00Z   \n",
       "\n",
       "   SMS_received  Hypertension  Diabetes  Alcoholism  Handicap Gender  Age  \\\n",
       "0             0             1         0           0         0      F   62   \n",
       "1             0             0         0           0         0      M   56   \n",
       "2             0             0         0           0         0      F    8   \n",
       "3             0             1         1           0         0      F   56   \n",
       "4             0             1         0           0         0      F   76   \n",
       "\n",
       "       Neighbourhood  Scholarship   Data No_Show  \n",
       "0    JARDIM DA PENHA            0  train      No  \n",
       "1    JARDIM DA PENHA            0  train      No  \n",
       "2  PONTAL DE CAMBURI            0  train      No  \n",
       "3    JARDIM DA PENHA            0  train      No  \n",
       "4          REPÚBLICA            0  train      No  "
      ]
     },
     "execution_count": 22,
     "metadata": {},
     "output_type": "execute_result"
    }
   ],
   "source": [
    "df.head()"
   ]
  },
  {
   "cell_type": "code",
   "execution_count": 23,
   "metadata": {},
   "outputs": [
    {
     "data": {
      "text/plain": [
       "PatientId             0\n",
       "AppointmentID         0\n",
       "ScheduledDay          0\n",
       "AppointmentDay        0\n",
       "SMS_received          0\n",
       "Hypertension          0\n",
       "Diabetes              0\n",
       "Alcoholism            0\n",
       "Handicap              0\n",
       "Gender                0\n",
       "Age                   0\n",
       "Neighbourhood         0\n",
       "Scholarship           0\n",
       "Data                  0\n",
       "No_Show           10854\n",
       "dtype: int64"
      ]
     },
     "execution_count": 23,
     "metadata": {},
     "output_type": "execute_result"
    }
   ],
   "source": [
    "df.isnull().sum()"
   ]
  },
  {
   "cell_type": "code",
   "execution_count": 24,
   "metadata": {
    "scrolled": true
   },
   "outputs": [],
   "source": [
    "# converting object type to datetime\n",
    "df['ScheduledDay'] = pd.to_datetime(df['ScheduledDay']).dt.date.astype('datetime64[ns]')\n",
    "\n",
    "df['AppointmentDay'] = pd.to_datetime(df['AppointmentDay']).dt.date.astype('datetime64[ns]')"
   ]
  },
  {
   "cell_type": "code",
   "execution_count": 25,
   "metadata": {},
   "outputs": [
    {
     "name": "stdout",
     "output_type": "stream",
     "text": [
      "<class 'pandas.core.frame.DataFrame'>\n",
      "Int64Index: 110344 entries, 0 to 10853\n",
      "Data columns (total 15 columns):\n",
      " #   Column          Non-Null Count   Dtype         \n",
      "---  ------          --------------   -----         \n",
      " 0   PatientId       110344 non-null  int64         \n",
      " 1   AppointmentID   110344 non-null  int64         \n",
      " 2   ScheduledDay    110344 non-null  datetime64[ns]\n",
      " 3   AppointmentDay  110344 non-null  datetime64[ns]\n",
      " 4   SMS_received    110344 non-null  int64         \n",
      " 5   Hypertension    110344 non-null  int64         \n",
      " 6   Diabetes        110344 non-null  int64         \n",
      " 7   Alcoholism      110344 non-null  int64         \n",
      " 8   Handicap        110344 non-null  int64         \n",
      " 9   Gender          110344 non-null  object        \n",
      " 10  Age             110344 non-null  int64         \n",
      " 11  Neighbourhood   110344 non-null  object        \n",
      " 12  Scholarship     110344 non-null  int64         \n",
      " 13  Data            110344 non-null  object        \n",
      " 14  No_Show         99490 non-null   object        \n",
      "dtypes: datetime64[ns](2), int64(9), object(4)\n",
      "memory usage: 13.5+ MB\n"
     ]
    }
   ],
   "source": [
    "df.info()"
   ]
  },
  {
   "cell_type": "markdown",
   "metadata": {},
   "source": [
    "### No_Show"
   ]
  },
  {
   "cell_type": "code",
   "execution_count": 26,
   "metadata": {},
   "outputs": [
    {
     "data": {
      "text/plain": [
       "array([0, 1])"
      ]
     },
     "execution_count": 26,
     "metadata": {},
     "output_type": "execute_result"
    }
   ],
   "source": [
    "df['No_Show'] = np.where(df['No_Show'] == 'Yes', 1, 0)\n",
    "df['No_Show'].unique()"
   ]
  },
  {
   "cell_type": "markdown",
   "metadata": {},
   "source": [
    "### Handicap"
   ]
  },
  {
   "cell_type": "code",
   "execution_count": 27,
   "metadata": {},
   "outputs": [
    {
     "data": {
      "text/plain": [
       "array([0, 1, 2, 3, 4], dtype=int64)"
      ]
     },
     "execution_count": 27,
     "metadata": {},
     "output_type": "execute_result"
    }
   ],
   "source": [
    "df['Handicap'].unique()"
   ]
  },
  {
   "cell_type": "code",
   "execution_count": 28,
   "metadata": {},
   "outputs": [],
   "source": [
    "# change all the Handicap set above 0 as 1\n",
    "df['Handicap'] = np.where(df['Handicap'] >= 1, 1, 0)\n",
    "\n",
    "# different method\n",
    "# train_md.loc[train_md.Handicap > 0, 'Handicap'] = 1"
   ]
  },
  {
   "cell_type": "code",
   "execution_count": 29,
   "metadata": {},
   "outputs": [
    {
     "data": {
      "text/plain": [
       "array([0, 1])"
      ]
     },
     "execution_count": 29,
     "metadata": {},
     "output_type": "execute_result"
    }
   ],
   "source": [
    "df['Handicap'].unique()"
   ]
  },
  {
   "cell_type": "markdown",
   "metadata": {},
   "source": [
    "### Gender"
   ]
  },
  {
   "cell_type": "code",
   "execution_count": 30,
   "metadata": {},
   "outputs": [],
   "source": [
    "df['Gender'] = np.where(df['Gender'] == \"F\", 1, 0)"
   ]
  },
  {
   "cell_type": "code",
   "execution_count": 31,
   "metadata": {},
   "outputs": [
    {
     "data": {
      "text/plain": [
       "array([1, 0])"
      ]
     },
     "execution_count": 31,
     "metadata": {},
     "output_type": "execute_result"
    }
   ],
   "source": [
    "df['Gender'].unique()"
   ]
  },
  {
   "cell_type": "markdown",
   "metadata": {},
   "source": [
    "### Waiting_Day"
   ]
  },
  {
   "cell_type": "code",
   "execution_count": 32,
   "metadata": {},
   "outputs": [],
   "source": [
    "# Adding a column which gives total waiting days\n",
    "df['Waiting_Day'] = (df['AppointmentDay'] - df['ScheduledDay']).dt.days"
   ]
  },
  {
   "cell_type": "code",
   "execution_count": 33,
   "metadata": {},
   "outputs": [],
   "source": [
    "# drop unwanted columns\n",
    "df.drop(['AppointmentDay','ScheduledDay'],axis=1,inplace=True)"
   ]
  },
  {
   "cell_type": "code",
   "execution_count": 34,
   "metadata": {},
   "outputs": [
    {
     "data": {
      "text/plain": [
       "array([  0,   2,   3,   1,   4,   9,  29,  10,  23,  11,  18,  17,  14,\n",
       "        28,  24,  21,  15,  16,  22,  43,  30,  31,  42,  56,  45,  46,\n",
       "        39,  37,  32,  38,  44,  50,  52,  53,  65,  67,  91,  66,  78,\n",
       "        87, 115, 109,  63,  70,  72,  84,  57,  58,  51,  59,  41,  73,\n",
       "        64,  49,  20,  33,  34,   6,  35,  36,  12,  13,  40,  47,   8,\n",
       "         5,   7,  25,  26,  48,  27,  19,  61,  55,  62, 176,  54,  77,\n",
       "        69,  83,  76,  89,  81,  60,  68,  75,  85, 112,  79,  -1,  80,\n",
       "        86,  98,  94, 142, 155, 162, 169, 104, 133, 125,  96,  88,  90,\n",
       "       151, 126, 127, 111, 119,  74,  71,  82, 103, 108, 110, 102, 122,\n",
       "       101, 105,  92,  97,  93, 107,  95,  -6, 139, 132, 179, 117, 146],\n",
       "      dtype=int64)"
      ]
     },
     "execution_count": 34,
     "metadata": {},
     "output_type": "execute_result"
    }
   ],
   "source": [
    "df['Waiting_Day'].unique()"
   ]
  },
  {
   "cell_type": "code",
   "execution_count": 35,
   "metadata": {},
   "outputs": [
    {
     "data": {
      "text/plain": [
       "-1    4\n",
       "-6    1\n",
       "Name: Waiting_Day, dtype: int64"
      ]
     },
     "execution_count": 35,
     "metadata": {},
     "output_type": "execute_result"
    }
   ],
   "source": [
    "# Waiting_Day cannot be less than 0\n",
    "df[(df['Waiting_Day'] < 0)].Waiting_Day.value_counts()"
   ]
  },
  {
   "cell_type": "code",
   "execution_count": 36,
   "metadata": {},
   "outputs": [],
   "source": [
    "df['Waiting_Day'][df['Waiting_Day'] < 0] = df['Waiting_Day'].mean()"
   ]
  },
  {
   "cell_type": "code",
   "execution_count": 37,
   "metadata": {
    "scrolled": false
   },
   "outputs": [
    {
     "name": "stdout",
     "output_type": "stream",
     "text": [
      "<class 'pandas.core.frame.DataFrame'>\n",
      "Int64Index: 110344 entries, 0 to 10853\n",
      "Data columns (total 14 columns):\n",
      " #   Column         Non-Null Count   Dtype  \n",
      "---  ------         --------------   -----  \n",
      " 0   PatientId      110344 non-null  int64  \n",
      " 1   AppointmentID  110344 non-null  int64  \n",
      " 2   SMS_received   110344 non-null  int64  \n",
      " 3   Hypertension   110344 non-null  int64  \n",
      " 4   Diabetes       110344 non-null  int64  \n",
      " 5   Alcoholism     110344 non-null  int64  \n",
      " 6   Handicap       110344 non-null  int32  \n",
      " 7   Gender         110344 non-null  int32  \n",
      " 8   Age            110344 non-null  int64  \n",
      " 9   Neighbourhood  110344 non-null  object \n",
      " 10  Scholarship    110344 non-null  int64  \n",
      " 11  Data           110344 non-null  object \n",
      " 12  No_Show        110344 non-null  int32  \n",
      " 13  Waiting_Day    110344 non-null  float64\n",
      "dtypes: float64(1), int32(3), int64(8), object(2)\n",
      "memory usage: 11.4+ MB\n"
     ]
    }
   ],
   "source": [
    "df.info()"
   ]
  },
  {
   "cell_type": "markdown",
   "metadata": {},
   "source": [
    "### Age"
   ]
  },
  {
   "cell_type": "code",
   "execution_count": 38,
   "metadata": {},
   "outputs": [
    {
     "data": {
      "text/plain": [
       "array([ 62,  56,   8,  76,  23,  39,  21,  19,  30,  29,  22,  28,  54,\n",
       "        15,  50,  40,  46,   4,  13,  65,  45,  51,  32,  12,  38,  18,\n",
       "        63,  64,  85,  59,  55,  71,  49,  78,  31,  58,  27,   6,   2,\n",
       "        11,   7,   0,   3,   1,  69,  61,  60,  67,  68,  36,  10,  35,\n",
       "        20,  26,  34,  33,  42,   5,  47,  17,  16,  41,  44,  37,  24,\n",
       "        66,  77,  81,  70,  53,  75,  73,  52,  74,  43,  89,  57,  14,\n",
       "         9,  48,  79,  72,  80,  87,  25,  83,  88,  84,  82,  90,  94,\n",
       "        86,  91,  98,  92,  96,  93,  95,  97, 102, 115, 100,  99,  -1],\n",
       "      dtype=int64)"
      ]
     },
     "execution_count": 38,
     "metadata": {},
     "output_type": "execute_result"
    }
   ],
   "source": [
    "df['Age'].unique()"
   ]
  },
  {
   "cell_type": "code",
   "execution_count": 39,
   "metadata": {},
   "outputs": [],
   "source": [
    "# Age cannot be less than 0\n",
    "df['Age'][df['Age']<0] = df.Age.mean()"
   ]
  },
  {
   "cell_type": "code",
   "execution_count": 40,
   "metadata": {},
   "outputs": [
    {
     "data": {
      "text/plain": [
       "18"
      ]
     },
     "execution_count": 40,
     "metadata": {},
     "output_type": "execute_result"
    }
   ],
   "source": [
    "# Creating dummies\n",
    "dum = df['Neighbourhood'].value_counts(normalize=True)\n",
    "np.sum(dum > .02)"
   ]
  },
  {
   "cell_type": "code",
   "execution_count": 41,
   "metadata": {},
   "outputs": [],
   "source": [
    "## So only 18 dummies as per above logic\n",
    "df_dum = dum[dum > .02].index ## these are the ones which we should use as dummies\n",
    "df = df.assign(**{\n",
    "                \"new_nhood\": np.where(df.Neighbourhood.isin(df_dum), df.Neighbourhood, 'Other') \n",
    "                 }).drop('Neighbourhood', axis=1)"
   ]
  },
  {
   "cell_type": "code",
   "execution_count": 42,
   "metadata": {},
   "outputs": [],
   "source": [
    "# concat to df and the drop unwanted column\n",
    "df = pd.concat([df, pd.get_dummies(df.new_nhood, drop_first = True)],axis=1)\n",
    "df.drop(['new_nhood'],axis=1,inplace=True)"
   ]
  },
  {
   "cell_type": "code",
   "execution_count": 43,
   "metadata": {},
   "outputs": [],
   "source": [
    "# split the data into train and test as previous\n",
    "train_df =df[df['Data'] =='train']\n",
    "test_df = df[df['Data'] =='test']"
   ]
  },
  {
   "cell_type": "code",
   "execution_count": 44,
   "metadata": {},
   "outputs": [],
   "source": [
    "# Drop unwanted columns\n",
    "train_df.drop('Data',axis=1,inplace=True)\n",
    "test_df.drop('Data',axis=1,inplace=True)\n",
    "test_df.drop('No_Show',axis=1,inplace=True)"
   ]
  },
  {
   "cell_type": "code",
   "execution_count": 45,
   "metadata": {},
   "outputs": [
    {
     "data": {
      "text/plain": [
       "Index(['PatientId', 'AppointmentID', 'SMS_received', 'Hypertension',\n",
       "       'Diabetes', 'Alcoholism', 'Handicap', 'Gender', 'Age', 'Scholarship',\n",
       "       'Waiting_Day', 'CARATOÍRA', 'CENTRO', 'DA PENHA', 'ILHA DO PRÍNCIPE',\n",
       "       'ITARARÉ', 'JABOUR', 'JARDIM CAMBURI', 'JARDIM DA PENHA',\n",
       "       'JESUS DE NAZARETH', 'MARIA ORTIZ', 'NOVA PALESTINA', 'Other',\n",
       "       'RESISTÊNCIA', 'SANTA MARTHA', 'SANTO ANDRÉ', 'SANTO ANTÔNIO',\n",
       "       'SÃO PEDRO', 'TABUAZEIRO'],\n",
       "      dtype='object')"
      ]
     },
     "execution_count": 45,
     "metadata": {},
     "output_type": "execute_result"
    }
   ],
   "source": [
    "test_df.columns"
   ]
  },
  {
   "cell_type": "code",
   "execution_count": 46,
   "metadata": {},
   "outputs": [
    {
     "data": {
      "text/plain": [
       "((99490, 30), (10854, 29))"
      ]
     },
     "execution_count": 46,
     "metadata": {},
     "output_type": "execute_result"
    }
   ],
   "source": [
    "train_df.shape, test_df.shape"
   ]
  },
  {
   "cell_type": "code",
   "execution_count": 47,
   "metadata": {},
   "outputs": [
    {
     "data": {
      "text/plain": [
       "{'No_Show'}"
      ]
     },
     "execution_count": 47,
     "metadata": {},
     "output_type": "execute_result"
    }
   ],
   "source": [
    "# check if header's are consistent in both train and test\n",
    "set(train_df.columns) - set(test_df.columns)"
   ]
  },
  {
   "cell_type": "code",
   "execution_count": 48,
   "metadata": {},
   "outputs": [],
   "source": [
    "# Split the train dataset into features and target variable\n",
    "X = train_df.drop('No_Show', axis=1)\n",
    "y = train_df['No_Show']"
   ]
  },
  {
   "cell_type": "code",
   "execution_count": 49,
   "metadata": {
    "scrolled": true
   },
   "outputs": [],
   "source": [
    "# Standardising the data\n",
    "scaler = StandardScaler()\n",
    "train = scaler.fit_transform(X)\n",
    "# here we just need to standardise the train data, no need to do this on target"
   ]
  },
  {
   "cell_type": "code",
   "execution_count": 50,
   "metadata": {},
   "outputs": [
    {
     "data": {
      "text/plain": [
       "0    79360\n",
       "1    20130\n",
       "Name: No_Show, dtype: int64"
      ]
     },
     "execution_count": 50,
     "metadata": {},
     "output_type": "execute_result"
    }
   ],
   "source": [
    "# checking event rate\n",
    "y.value_counts()"
   ]
  },
  {
   "cell_type": "code",
   "execution_count": 51,
   "metadata": {},
   "outputs": [
    {
     "name": "stdout",
     "output_type": "stream",
     "text": [
      "[(0, 79360), (1, 79360)] (158720,)\n"
     ]
    }
   ],
   "source": [
    "# Balancing the data\n",
    "ros = RandomOverSampler(random_state=2)\n",
    "X_resample,y_resample = ros.fit_resample(X,y)\n",
    "from collections import Counter\n",
    "print(sorted(Counter(y_resample).items()),y_resample.shape)"
   ]
  },
  {
   "cell_type": "code",
   "execution_count": 52,
   "metadata": {},
   "outputs": [],
   "source": [
    "# Split the train dataset into training and validation sets\n",
    "X_train, X_test, y_train, y_test = train_test_split(X_resample, y_resample, test_size=0.2, random_state=5)"
   ]
  },
  {
   "cell_type": "code",
   "execution_count": 53,
   "metadata": {},
   "outputs": [],
   "source": [
    "# Train the model\n",
    "xgb = XGBClassifier()"
   ]
  },
  {
   "cell_type": "code",
   "execution_count": 54,
   "metadata": {},
   "outputs": [
    {
     "data": {
      "text/plain": [
       "XGBClassifier(base_score=0.5, booster='gbtree', callbacks=None,\n",
       "              colsample_bylevel=1, colsample_bynode=1, colsample_bytree=1,\n",
       "              early_stopping_rounds=None, enable_categorical=False,\n",
       "              eval_metric=None, gamma=0, gpu_id=-1, grow_policy='depthwise',\n",
       "              importance_type=None, interaction_constraints='',\n",
       "              learning_rate=0.300000012, max_bin=256, max_cat_to_onehot=4,\n",
       "              max_delta_step=0, max_depth=6, max_leaves=0, min_child_weight=1,\n",
       "              missing=nan, monotone_constraints='()', n_estimators=100,\n",
       "              n_jobs=0, num_parallel_tree=1, predictor='auto', random_state=0,\n",
       "              reg_alpha=0, reg_lambda=1, ...)"
      ]
     },
     "execution_count": 54,
     "metadata": {},
     "output_type": "execute_result"
    }
   ],
   "source": [
    "# fitting the model\n",
    "xgb.fit(X_train,y_train)"
   ]
  },
  {
   "cell_type": "code",
   "execution_count": 55,
   "metadata": {},
   "outputs": [],
   "source": [
    "# Predict the target variable for the validation set\n",
    "y_pred = xgb.predict(X_test)"
   ]
  },
  {
   "cell_type": "code",
   "execution_count": 56,
   "metadata": {},
   "outputs": [
    {
     "name": "stdout",
     "output_type": "stream",
     "text": [
      "roc_auc score:  0.7217678495158975\n"
     ]
    }
   ],
   "source": [
    "# Calculate the roc_auc score for the validation set\n",
    "score = roc_auc_score(y_test, y_pred)\n",
    "\n",
    "print(\"roc_auc score: \", score)"
   ]
  },
  {
   "cell_type": "code",
   "execution_count": 58,
   "metadata": {},
   "outputs": [],
   "source": [
    "# Predict the target variable for the test set\n",
    "test_pred = xgb.predict(test_df)"
   ]
  },
  {
   "cell_type": "code",
   "execution_count": 59,
   "metadata": {},
   "outputs": [],
   "source": [
    "# Create a submission file with the predicted probabilities\n",
    "submission_df = pd.DataFrame({'PatientId': test_df['PatientId'], 'No_Show': test_pred})\n",
    "submission_df.to_csv('No_Shows_for_Medical_Appointments_08.csv', index=False)"
   ]
  },
  {
   "cell_type": "code",
   "execution_count": null,
   "metadata": {},
   "outputs": [],
   "source": []
  }
 ],
 "metadata": {
  "kernelspec": {
   "display_name": "Python 3",
   "language": "python",
   "name": "python3"
  },
  "language_info": {
   "codemirror_mode": {
    "name": "ipython",
    "version": 3
   },
   "file_extension": ".py",
   "mimetype": "text/x-python",
   "name": "python",
   "nbconvert_exporter": "python",
   "pygments_lexer": "ipython3",
   "version": "3.7.6"
  }
 },
 "nbformat": 4,
 "nbformat_minor": 5
}
